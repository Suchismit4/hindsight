{
 "cells": [
  {
   "cell_type": "code",
   "execution_count": null,
   "metadata": {},
   "outputs": [],
   "source": [
    "from src import DataManager"
   ]
  },
  {
   "cell_type": "code",
   "execution_count": null,
   "metadata": {},
   "outputs": [],
   "source": [
    "import xarray as xr\n",
    "import xarray_jax as xj\n",
    "import numpy as np\n",
    "import pandas as pd\n",
    "from functools import partial\n",
    "import jax\n",
    "import jax.numpy as jnp\n",
    "import matplotlib.pyplot as plt\n",
    "from copy import deepcopy"
   ]
  },
  {
   "cell_type": "code",
   "execution_count": null,
   "metadata": {},
   "outputs": [],
   "source": [
    "# Initialize the DataManager to handle dataset operations\n",
    "dm = DataManager()\n",
    "    \n",
    "# Data parameters: symbols, date range, and data provider configuration.\n",
    "datasets = dm.get_data([\n",
    "    {\n",
    "        \"data_path\": \"wrds/equity/crsp\",\n",
    "        \"config\": {\n",
    "            \"start_date\": \"2000-01-01\",\n",
    "            \"end_date\": \"2024-01-01\",\n",
    "            \"freq\": \"M\",\n",
    "            \"filters\": {\n",
    "                \"date__gte\": \"2000-01-01\"\n",
    "            },\n",
    "            \"processors\": {\n",
    "                \"replace_values\": {\n",
    "                    \"source\": \"delistings\",\n",
    "                    \"rename\": [[\"dlstdt\", \"time\"]],\n",
    "                    \"identifier\": \"permno\",\n",
    "                    \"from_var\": \"dlret\",\n",
    "                    \"to_var\": \"ret\"\n",
    "                },\n",
    "                \"merge_table\": [\n",
    "                    {\n",
    "                        \"source\": \"msenames\",\n",
    "                        \"identifier\": \"permno\",\n",
    "                        \"column\": \"comnam\",\n",
    "                        \"axis\": \"asset\"\n",
    "                    },\n",
    "                    {\n",
    "                        \"source\": \"msenames\",\n",
    "                        \"identifier\": \"permno\",\n",
    "                        \"column\": \"exchcd\",\n",
    "                        \"axis\": \"asset\"\n",
    "                    }\n",
    "                ],\n",
    "                \"set_permco_coord\": True,\n",
    "                \"fix_market_equity\": True\n",
    "            }\n",
    "        }\n",
    "    },\n",
    "    {\n",
    "        \"data_path\": \"wrds/fundamentals/compustat\",\n",
    "        \"config\": {\n",
    "            \"start_date\": \"2000-01-01\",\n",
    "            \"end_date\": \"2024-01-01\",\n",
    "            \"columns_to_read\": ['gvkey', 'datadate', 'at', 'pstkl', 'txditc', 'pstkrv', 'seq', 'pstk', 'indfmt', 'datafmt', 'popsrc', 'consol'],\n",
    "            \"freq\": \"Y\",\n",
    "            \"filters\": {\n",
    "                \"indfmt\": \"INDL\",\n",
    "                \"datafmt\": \"STD\",\n",
    "                \"popsrc\": \"D\",\n",
    "                \"consol\": \"C\",\n",
    "                \"date__gte\": \"2000-01-01\"\n",
    "            },\n",
    "            \"processors\": {\n",
    "                \"set_permno_coord\": True,\n",
    "                \"preferred_stock\": True\n",
    "            }\n",
    "        }\n",
    "    }\n",
    "])"
   ]
  },
  {
   "cell_type": "code",
   "execution_count": null,
   "metadata": {
    "scrolled": true
   },
   "outputs": [],
   "source": [
    "datasets"
   ]
  },
  {
   "cell_type": "code",
   "execution_count": null,
   "metadata": {},
   "outputs": [],
   "source": [
    "_datasets = deepcopy(datasets)\n",
    "\n",
    "comp = _datasets[\"wrds/equity/compustat\"]\n",
    "crsp = _datasets[\"wrds/equity/crsp\"]"
   ]
  },
  {
   "cell_type": "code",
   "execution_count": null,
   "metadata": {},
   "outputs": [],
   "source": [
    "# # We are going to introduce permno as a co-ordiante now to compustat's dataset from CCM.\n",
    "# permno_gvkey = (comp[\"permno\"].max(dim=[\"year\", \"month\", \"day\"], skipna=True)).data # for ambg.\n",
    "# comp = comp.drop_vars(\"permno\")\n",
    "# comp = comp.assign_coords(permno=(\"asset\", permno_gvkey))\n",
    "\n",
    "# # We are going to introduce permco as a co-ordiante now. (max works here because has one value)\n",
    "# permco_permno = (crsp[\"permco\"].max(dim=[\"year\", \"month\", \"day\"], skipna=True)).data # for ambg.\n",
    "# crsp = crsp.drop_vars(\"permco\")\n",
    "# crsp = crsp.assign_coords(permco=(\"asset\", permco_permno))"
   ]
  },
  {
   "cell_type": "code",
   "execution_count": null,
   "metadata": {},
   "outputs": [],
   "source": [
    "# # create preferred stock\n",
    "# comp['ps'] = xr.where(comp['pstkrv'].isnull(), comp['pstkl'], comp['pstkrv'])\n",
    "# comp['ps'] = xr.where(comp['ps'].isnull(),comp['pstk'], comp['ps'])\n",
    "# comp['ps'] = xr.where(comp['ps'].isnull(),0,comp['ps'])\n",
    "# comp['txditc'] = comp['txditc'].fillna(0)"
   ]
  },
  {
   "cell_type": "code",
   "execution_count": null,
   "metadata": {},
   "outputs": [],
   "source": [
    "# # calculate market equity\n",
    "# crsp['me'] = abs(crsp['prc']) * crsp['shrout'] "
   ]
  },
  {
   "cell_type": "code",
   "execution_count": null,
   "metadata": {},
   "outputs": [],
   "source": [
    "# # Aggregate Market Cap\n",
    "# summe = crsp.me.groupby(crsp.permco).sum(dim=\"asset\", skipna=True)  # This gives a DataArray with dims (year, month, day, permco)\n",
    "# maxme = crsp.me.groupby(crsp.permco).max(dim=\"asset\", skipna=True)  \n",
    "\n",
    "# maxme_broadcast = maxme.sel(permco=crsp.permco)  # This will align maxme with the original permno dimension\n",
    "# is_max_permno   = (crsp.me == maxme_broadcast) \n",
    "# summe_broadcast = summe.sel(permco=crsp.permco)  # This aligns summe with the permno dimension\n",
    "\n",
    "# crsp[\"me\"] = xr.where(is_max_permno, summe_broadcast, crsp.me) # Now the permno with the max market-cap has the aggregated marketcap"
   ]
  },
  {
   "cell_type": "code",
   "execution_count": null,
   "metadata": {},
   "outputs": [],
   "source": [
    "# create book equity\n",
    "comp['be'] = comp['seq'] + comp['txditc'] - comp['ps']\n",
    "comp['be']=  xr.where(comp['be'] > 0, comp['be'], jnp.nan)"
   ]
  },
  {
   "cell_type": "code",
   "execution_count": null,
   "metadata": {},
   "outputs": [],
   "source": [
    "crsp['me'].sel(asset=14593).values.reshape(-1,)[-10:] # apple market equity"
   ]
  },
  {
   "cell_type": "code",
   "execution_count": null,
   "metadata": {},
   "outputs": [],
   "source": [
    "# We will now do some calender adjustment according to Fama-French\n",
    "\n",
    "# This methodology follows the standard Fama-French approach where:\n",
    "# December market caps determine size classifications\n",
    "# Portfolios are formed in July of year t using accounting data from December of year t-1\n",
    "# These portfolios are held for 12 months (July to June)\n",
    "\n",
    "# Keep December market cap\n",
    "# First, let's extract year and month from the time coordinate\n",
    "years = crsp.coords['year'].values\n",
    "months = crsp.coords['month'].values\n",
    "\n",
    "# Create a mask for December\n",
    "dec_mask = (crsp.coords['month'] == 12)\n",
    "\n",
    "# Select December data and create a new variable for December market cap\n",
    "crsp['dec_me'] = xr.where(dec_mask, crsp['me'], jnp.nan)\n",
    "\n",
    "# Create FF dates according to Fama-French methodology\n",
    "# For July-December, ffyear = calendar year\n",
    "# For January-June, ffyear = calendar year - 1 (previous year)\n",
    "jan_june_mask = (crsp.coords['month'] <= 6)\n",
    "\n",
    "# Create ffyear coordinate initially as a copy of calendar year\n",
    "crsp = crsp.assign_coords(ffyear=('year', years))\n",
    "# Then modify it: for January-June dates, use the previous year\n",
    "crsp['ffyear'] = xr.where(jan_june_mask, crsp.coords['year'] - 1, crsp.coords['year'])"
   ]
  },
  {
   "cell_type": "code",
   "execution_count": null,
   "metadata": {},
   "outputs": [],
   "source": [
    "# Create 1+retx for return calculations\n",
    "crsp['retx_plus_one'] = 1 + crsp['ret']\n",
    "\n",
    "# cumret by stock\n",
    "crsp['cumretx'] = crsp['retx_plus_one'].groupby(['asset','ffyear']).cumprod()\n",
    "\n",
    "# crsp lagged by one day\n",
    "crsp_lagged = crsp.dt.shift(1)\n",
    "\n",
    "# lag cumret - just assign the shifted values directly, no groupby needed\n",
    "crsp['lcumretx'] = crsp_lagged['cumretx'] \n",
    "\n",
    "# lag market cap - same approach, no groupby needed\n",
    "crsp['lme'] = crsp_lagged['me']\n",
    "\n",
    "# Create a mask for the first valid observation for each asset\n",
    "# This identifies cells where current ME exists but lagged ME doesn't\n",
    "is_first_obs = crsp['me'].notnull() & crsp['lme'].isnull()\n",
    "\n",
    "# Then apply the special handling for first observations\n",
    "# if first permno then use me/(1+retx) to replace the missing value\n",
    "crsp['lme'] = xr.where(is_first_obs, crsp['me']/crsp['retx_plus_one'], crsp['lme'])"
   ]
  },
  {
   "cell_type": "code",
   "execution_count": null,
   "metadata": {},
   "outputs": [],
   "source": [
    "# Create ffmonth coordinate\n",
    "crsp['ffmonth'] = xr.where(jan_june_mask, \n",
    "                          crsp.coords['month'] + 6,  # Jan -> 7, Feb -> 8, etc.\n",
    "                          crsp.coords['month'] - 6)  # Jul -> 1, Aug -> 2, etc.\n",
    "\n",
    "# Create a mask for ffmonth=1 (July in calendar time)\n",
    "july_mask = (crsp['ffmonth'] == 1)\n",
    "\n",
    "# Get the July lme values and drop the unnecessary dimensions\n",
    "# First select only the july data\n",
    "july_lme = crsp['lme'].where(july_mask)"
   ]
  },
  {
   "cell_type": "code",
   "execution_count": null,
   "metadata": {},
   "outputs": [],
   "source": [
    "# Group by asset and ffyear to get one value per combination\n",
    "# Now we'll have a DataArray with just (asset, ffyear) dimensions\n",
    "mebase = july_lme.groupby(['asset', 'ffyear']).max(skipna=True)"
   ]
  },
  {
   "cell_type": "code",
   "execution_count": null,
   "metadata": {},
   "outputs": [],
   "source": [
    "# Rename to not cause errors\n",
    "mebase = mebase.rename('mebase')\n",
    "\n",
    "# This is equivalent to a left join on (asset, ffyear) in pandas\n",
    "# We need to use sel() to match the dimensions correctly\n",
    "crsp['mebase'] = mebase.sel(asset=crsp.asset, ffyear=crsp.ffyear)\n",
    "\n",
    "# Compute the weights\n",
    "crsp['wt'] = xr.where(ffmonth1_mask, \n",
    "                      crsp['lme'],                        # For July, use lme directly\n",
    "                      crsp['mebase'] * crsp['lcumretx'])  # For other months, use baseline ME * cumulative return"
   ]
  },
  {
   "cell_type": "code",
   "execution_count": null,
   "metadata": {},
   "outputs": [],
   "source": [
    "crsp['wt'].sel(asset=14593)"
   ]
  },
  {
   "cell_type": "code",
   "execution_count": null,
   "metadata": {},
   "outputs": [],
   "source": [
    "# Extract December data\n",
    "dec_mask = (crsp.coords['month'] == 12)\n",
    "dec_me_values = crsp['dec_me'].where(dec_mask).max(dim=['month', 'day'], skipna=True)\n",
    "\n",
    "# Create the same structure but with incremented year\n",
    "# This shifts December 2020 to be associated with 2021\n",
    "dec_me_next_year = dec_me_values.copy()\n",
    "dec_me_next_year = dec_me_next_year.assign_coords(year=dec_me_next_year.year + 1)\n",
    "dec_me_next_year = dec_me_next_year.rename('dec_me')\n",
    "\n",
    "# Extract June data\n",
    "june_mask = (crsp.coords['month'] == 6)\n",
    "june_data = crsp.where(june_mask, drop=True)\n",
    "\n",
    "# Merge the two datasets\n",
    "# This links June data with the previous December's data - equivalent to pandas inner join\n",
    "crsp_june = xr.merge([june_data, dec_me_next_year])"
   ]
  },
  {
   "cell_type": "code",
   "execution_count": null,
   "metadata": {},
   "outputs": [],
   "source": [
    "crsp_june = crsp_june[['me','wt','cumretx','mebase','lme','dec_me']] # Select only the ones we need."
   ]
  },
  {
   "cell_type": "code",
   "execution_count": null,
   "metadata": {},
   "outputs": [],
   "source": [
    "# Link compustat and crsp and compute book to market ratio\n",
    "ccm_jun = xr.merge([crsp_june, comp]) \n",
    "ccm_jun['beme'] = ccm_jun['be']*1000/ccm_jun['dec_me']"
   ]
  },
  {
   "cell_type": "code",
   "execution_count": null,
   "metadata": {},
   "outputs": [],
   "source": [
    "crsp_june['dec_me'].sel(asset=14593)"
   ]
  },
  {
   "cell_type": "code",
   "execution_count": null,
   "metadata": {},
   "outputs": [],
   "source": []
  },
  {
   "cell_type": "code",
   "execution_count": null,
   "metadata": {},
   "outputs": [],
   "source": []
  },
  {
   "cell_type": "code",
   "execution_count": null,
   "metadata": {},
   "outputs": [],
   "source": []
  },
  {
   "cell_type": "code",
   "execution_count": null,
   "metadata": {},
   "outputs": [],
   "source": []
  }
 ],
 "metadata": {
  "kernelspec": {
   "display_name": "Python 3 (ipykernel)",
   "language": "python",
   "name": "python3"
  },
  "language_info": {
   "codemirror_mode": {
    "name": "ipython",
    "version": 3
   },
   "file_extension": ".py",
   "mimetype": "text/x-python",
   "name": "python",
   "nbconvert_exporter": "python",
   "pygments_lexer": "ipython3",
   "version": "3.12.7"
  }
 },
 "nbformat": 4,
 "nbformat_minor": 4
}
