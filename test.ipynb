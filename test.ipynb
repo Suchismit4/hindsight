{
 "cells": [
  {
   "cell_type": "code",
   "execution_count": 9,
   "metadata": {},
   "outputs": [],
   "source": [
    "\n",
    "import pyreadstat\n",
    "import pandas as pd\n",
    "import numpy as np\n",
    "\n",
    "# Define the path to your SAS file\n",
    "funda = \"/wrds/comp/sasdata/d_na/funda.sas7bdat\""
   ]
  },
  {
   "cell_type": "code",
   "execution_count": 10,
   "metadata": {},
   "outputs": [
    {
     "name": "stdout",
     "output_type": "stream",
     "text": [
      "['gvkey', 'datadate', 'fyear', 'indfmt', 'consol', 'popsrc', 'datafmt', 'tic', 'cusip', 'conm', 'acctchg', 'acctstd', 'acqmeth', 'adrr', 'ajex', 'ajp', 'bspr', 'compst', 'curcd', 'curncd', 'currtr', 'curuscn', 'final', 'fyr', 'ismod', 'ltcm', 'ogm', 'pddur', 'scf', 'src', 'stalt', 'udpl', 'upd', 'apdedate', 'fdate', 'pdate', 'acchg', 'acco', 'accrt', 'acdo', 'aco', 'acodo', 'acominc', 'acox', 'acoxar', 'acqao', 'acqcshi', 'acqgdwl', 'acqic', 'acqintan', 'acqinvt', 'acqlntal', 'acqniintc', 'acqppe', 'acqsc', 'act', 'adpac', 'aedi', 'afudcc', 'afudci', 'aldo', 'am', 'amc', 'amdc', 'amgw', 'ano', 'ao', 'aocidergl', 'aociother', 'aocipen', 'aocisecgl', 'aodo', 'aol2', 'aoloch', 'aox', 'ap', 'apalch', 'apb', 'apc', 'apofs', 'aqa', 'aqc', 'aqd', 'aqeps', 'aqi', 'aqp', 'aqpl1', 'aqs', 'arb', 'arc', 'arce', 'arced', 'arceeps', 'artfs', 'at', 'aul3', 'autxr', 'balr', 'banlr', 'bast', 'bastr', 'batr', 'bcef', 'bclr', 'bcltbl', 'bcnlr', 'bcrbl', 'bct', 'bctbl', 'bctr', 'billexce', 'bkvlps', 'bltbl', 'ca', 'capr1', 'capr2', 'capr3', 'caps', 'capsft', 'capx', 'capxv', 'cb', 'cbi', 'cdpac', 'cdvc', 'ceiexbill', 'ceq', 'ceql', 'ceqt', 'cfbd', 'cfere', 'cfo', 'cfpdo', 'cga', 'cgri', 'cgti', 'cgui', 'ch', 'che', 'chech', 'chs', 'ci', 'cibegni', 'cicurr', 'cidergl', 'cimii', 'ciother', 'cipen', 'cisecgl', 'citotal', 'cld2', 'cld3', 'cld4', 'cld5', 'clfc', 'clfx', 'clg', 'clis', 'cll', 'cllc', 'clo', 'clrll', 'clt', 'cmp', 'cnltbl', 'cogs', 'cpcbl', 'cpdoi', 'cpnli', 'cppbl', 'cprei', 'crv', 'crvnli', 'cshfd', 'cshi', 'csho', 'cshpri', 'cshr', 'cshrc', 'cshrp', 'cshrso', 'cshrt', 'cshrw', 'cstk', 'cstkcv', 'cstke', 'dbi', 'dc', 'dclo', 'dcom', 'dcpstk', 'dcs', 'dcvsr', 'dcvsub', 'dcvt', 'dd', 'dd1', 'dd2', 'dd3', 'dd4', 'dd5', 'depc', 'derac', 'deralt', 'derhedgl', 'derlc', 'derllt', 'dfpac', 'dfs', 'dfxa', 'diladj', 'dilavx', 'dlc', 'dlcch', 'dltis', 'dlto', 'dltp', 'dltr', 'dltsub', 'dltt', 'dm', 'dn', 'do', 'donr', 'dp', 'dpacb', 'dpacc', 'dpacli', 'dpacls', 'dpacme', 'dpacnr', 'dpaco', 'dpacre', 'dpact', 'dpc', 'dpdc', 'dpltb', 'dpret', 'dpsc', 'dpstb', 'dptb', 'dptc', 'dptic', 'dpvieb', 'dpvio', 'dpvir', 'drc', 'drci', 'drlt', 'ds', 'dt', 'dtea', 'dted', 'dteeps', 'dtep', 'dudd', 'dv', 'dvc', 'dvdnp', 'dvintf', 'dvp', 'dvpa', 'dvpd', 'dvpdp', 'dvpibb', 'dvrpiv', 'dvrre', 'dvsco', 'dvt', 'dxd2', 'dxd3', 'dxd4', 'dxd5', 'ea', 'ebit', 'ebitda', 'eiea', 'emol', 'emp', 'epsfi', 'epsfx', 'epspi', 'epspx', 'esopct', 'esopdlt', 'esopnr', 'esopr', 'esopt', 'esub', 'esubc', 'excadj', 'exre', 'fatb', 'fatc', 'fatd', 'fate', 'fatl', 'fatn', 'fato', 'fatp', 'fca', 'fdfr', 'fea', 'fel', 'ffo', 'ffs', 'fiao', 'finaco', 'finao', 'fincf', 'finch', 'findlc', 'findlt', 'finivst', 'finlco', 'finlto', 'finnp', 'finrecc', 'finreclt', 'finrev', 'finxint', 'finxopr', 'fopo', 'fopox', 'fopt', 'fsrco', 'fsrct', 'fuseo', 'fuset', 'gbbl', 'gdwl', 'gdwlam', 'gdwlia', 'gdwlid', 'gdwlieps', 'gdwlip', 'geqrv', 'gla', 'glcea', 'glced', 'glceeps', 'glcep', 'gld', 'gleps', 'gliv', 'glp', 'govgr', 'govtown', 'gp', 'gphbl', 'gplbl', 'gpobl', 'gprbl', 'gptbl', 'gwo', 'hedgegl', 'iaeq', 'iaeqci', 'iaeqmi', 'iafici', 'iafxi', 'iafxmi', 'iali', 'ialoi', 'ialti', 'iamli', 'iaoi', 'iapli', 'iarei', 'iasci', 'iasmi', 'iassi', 'iasti', 'iatci', 'iati', 'iatmi', 'iaui', 'ib', 'ibadj', 'ibbl', 'ibc', 'ibcom', 'ibki', 'ibmii', 'icapt', 'idiis', 'idilb', 'idilc', 'idis', 'idist', 'idit', 'idits', 'iire', 'initb', 'intan', 'intano', 'intc', 'intpn', 'invch', 'invfg', 'invo', 'invofs', 'invreh', 'invrei', 'invres', 'invrm', 'invt', 'invwip', 'iobd', 'ioi', 'iore', 'ip', 'ipabl', 'ipc', 'iphbl', 'iplbl', 'ipobl', 'iptbl', 'ipti', 'ipv', 'irei', 'irent', 'irii', 'irli', 'irnli', 'irsi', 'iseq', 'iseqc', 'iseqm', 'isfi', 'isfxc', 'isfxm', 'isgr', 'isgt', 'isgu', 'islg', 'islgc', 'islgm', 'islt', 'isng', 'isngc', 'isngm', 'isotc', 'isoth', 'isotm', 'issc', 'issm', 'issu', 'ist', 'istc', 'istm', 'isut', 'itcb', 'itcc', 'itci', 'ivaco', 'ivaeq', 'ivao', 'ivch', 'ivgod', 'ivi', 'ivncf', 'ivpt', 'ivst', 'ivstch', 'lcabg', 'lcacl', 'lcacr', 'lcag', 'lcal', 'lcalt', 'lcam', 'lcao', 'lcast', 'lcat', 'lco', 'lcox', 'lcoxar', 'lcoxdr', 'lct', 'lcuacu', 'li', 'lif', 'lifr', 'lifrp', 'lloml', 'lloo', 'llot', 'llrci', 'llrcr', 'llwoci', 'llwocr', 'lno', 'lo', 'lol2', 'loxdr', 'lqpl1', 'lrv', 'ls', 'lse', 'lst', 'lt', 'lul3', 'mib', 'mibn', 'mibt', 'mii', 'mrc1', 'mrc2', 'mrc3', 'mrc4', 'mrc5', 'mrct', 'mrcta', 'msa', 'msvrv', 'mtl', 'nat', 'nco', 'nfsr', 'ni', 'niadj', 'nieci', 'niint', 'niintpfc', 'niintpfp', 'niit', 'nim', 'nio', 'nipfc', 'nipfp', 'nit', 'nits', 'nopi', 'nopio', 'np', 'npanl', 'npaore', 'nparl', 'npat', 'nrtxt', 'nrtxtd', 'nrtxteps', 'oancf', 'ob', 'oiadp', 'oibdp', 'opeps', 'opili', 'opincar', 'opini', 'opioi', 'opiri', 'opiti', 'oprepsx', 'optca', 'optdr', 'optex', 'optexd', 'optfvgr', 'optgr', 'optlife', 'optosby', 'optosey', 'optprcby', 'optprcca', 'optprcex', 'optprcey', 'optprcgr', 'optprcwa', 'optrfr', 'optvol', 'palr', 'panlr', 'patr', 'pcl', 'pclr', 'pcnlr', 'pctr', 'pdvc', 'pi', 'pidom', 'pifo', 'pll', 'pltbl', 'pnca', 'pncad', 'pncaeps', 'pncia', 'pncid', 'pncieps', 'pncip', 'pncwia', 'pncwid', 'pncwieps', 'pncwip', 'pnlbl', 'pnli', 'pnrsho', 'pobl', 'ppcbl', 'ppegt', 'ppenb', 'ppenc', 'ppenli', 'ppenls', 'ppenme', 'ppennr', 'ppeno', 'ppent', 'ppevbb', 'ppeveb', 'ppevo', 'ppevr', 'pppabl', 'ppphbl', 'pppobl', 'ppptbl', 'prc', 'prca', 'prcad', 'prcaeps', 'prebl', 'pri', 'prodv', 'prsho', 'prstkc', 'prstkcc', 'prstkpc', 'prvt', 'pstk', 'pstkc', 'pstkl', 'pstkn', 'pstkr', 'pstkrv', 'ptbl', 'ptran', 'pvcl', 'pvo', 'pvon', 'pvpl', 'pvt', 'pwoi', 'radp', 'ragr', 'rari', 'rati', 'rca', 'rcd', 'rceps', 'rcl', 'rcp', 'rdip', 'rdipa', 'rdipd', 'rdipeps', 'rdp', 're', 'rea', 'reajo', 'recch', 'recco', 'recd', 'rect', 'recta', 'rectr', 'recub', 'ret', 'reuna', 'reunr', 'revt', 'ris', 'rll', 'rlo', 'rlp', 'rlri', 'rlt', 'rmum', 'rpag', 'rra', 'rrd', 'rreps', 'rrp', 'rstche', 'rstchelt', 'rvbci', 'rvbpi', 'rvbti', 'rvdo', 'rvdt', 'rveqt', 'rvlrv', 'rvno', 'rvnt', 'rvri', 'rvsi', 'rvti', 'rvtxr', 'rvupi', 'rvutx', 'saa', 'sal', 'sale', 'salepfc', 'salepfp', 'sbdc', 'sc', 'sco', 'scstkc', 'secu', 'seq', 'seqo', 'seta', 'setd', 'seteps', 'setp', 'siv', 'spce', 'spced', 'spceeps', 'spi', 'spid', 'spieps', 'spioa', 'spiop', 'sppe', 'sppiv', 'spstkc', 'sret', 'srt', 'ssnp', 'sstk', 'stbo', 'stio', 'stkco', 'stkcpa', 'tdc', 'tdscd', 'tdsce', 'tdsg', 'tdslg', 'tdsmm', 'tdsng', 'tdso', 'tdss', 'tdst', 'teq', 'tf', 'tfva', 'tfvce', 'tfvl', 'tie', 'tii', 'tlcf', 'transa', 'tsa', 'tsafc', 'tso', 'tstk', 'tstkc', 'tstkme', 'tstkn', 'tstkp', 'txach', 'txbco', 'txbcof', 'txc', 'txdb', 'txdba', 'txdbca', 'txdbcl', 'txdc', 'txdfed', 'txdfo', 'txdi', 'txditc', 'txds', 'txeqa', 'txeqii', 'txfed', 'txfo', 'txndb', 'txndba', 'txndbl', 'txndbr', 'txo', 'txp', 'txpd', 'txr', 'txs', 'txt', 'txtubadjust', 'txtubbegin', 'txtubend', 'txtubmax', 'txtubmin', 'txtubposdec', 'txtubposinc', 'txtubpospdec', 'txtubpospinc', 'txtubsettle', 'txtubsoflimit', 'txtubtxtr', 'txtubxintbs', 'txtubxintis', 'txva', 'txw', 'uaoloch', 'uaox', 'uapt', 'ucaps', 'uccons', 'uceq', 'ucustad', 'udcopres', 'udd', 'udfcc', 'udmb', 'udolt', 'udpco', 'udpfa', 'udvp', 'ufretsd', 'ugi', 'ui', 'uinvt', 'ulcm', 'ulco', 'uniami', 'unl', 'unnp', 'unnpl', 'unopinc', 'unwcc', 'uois', 'uopi', 'uopres', 'updvp', 'upmcstk', 'upmpf', 'upmpfs', 'upmsubp', 'upstk', 'upstkc', 'upstksf', 'urect', 'urectr', 'urevub', 'uspi', 'ustdnc', 'usubdvp', 'usubpstk', 'utfdoc', 'utfosc', 'utme', 'utxfed', 'uwkcapc', 'uxinst', 'uxintd', 'vpac', 'vpo', 'wcap', 'wcapc', 'wcapch', 'wda', 'wdd', 'wdeps', 'wdp', 'xacc', 'xad', 'xago', 'xagt', 'xcom', 'xcomi', 'xdepl', 'xdp', 'xdvre', 'xeqo', 'xi', 'xido', 'xidoc', 'xindb', 'xindc', 'xins', 'xinst', 'xint', 'xintd', 'xintopt', 'xivi', 'xivre', 'xlr', 'xnbi', 'xnf', 'xnins', 'xnitb', 'xobd', 'xoi', 'xopr', 'xoprar', 'xoptd', 'xopteps', 'xore', 'xpp', 'xpr', 'xrd', 'xrdp', 'xrent', 'xs', 'xsga', 'xstf', 'xstfo', 'xstfws', 'xt', 'xuw', 'xuwli', 'xuwnli', 'xuwoi', 'xuwrei', 'xuwti', 'iid', 'exchg', 'cik', 'costat', 'fic', 'naicsh', 'sich', 'cshtr_c', 'dvpsp_c', 'dvpsx_c', 'prcc_c', 'prch_c', 'prcl_c', 'adjex_c', 'cshtr_f', 'dvpsp_f', 'dvpsx_f', 'mkvalt', 'prcc_f', 'prch_f', 'prcl_f', 'adjex_f', 'rank', 'au', 'auop', 'auopic', 'ceoso', 'cfoso']\n",
      "Index(['gvkey', 'datadate', 'at', 'pstkl', 'txditc', 'pstkrv', 'seq', 'pstk',\n",
      "       'indfmt', 'datafmt', 'popsrc', 'consol'],\n",
      "      dtype='object')\n"
     ]
    },
    {
     "name": "stderr",
     "output_type": "stream",
     "text": [
      "/tmp/ipykernel_8105/2612060673.py:25: SettingWithCopyWarning: \n",
      "A value is trying to be set on a copy of a slice from a DataFrame.\n",
      "Try using .loc[row_indexer,col_indexer] = value instead\n",
      "\n",
      "See the caveats in the documentation: https://pandas.pydata.org/pandas-docs/stable/user_guide/indexing.html#returning-a-view-versus-a-copy\n",
      "  comp['year']=comp['datadate'].dt.year\n",
      "/tmp/ipykernel_8105/2612060673.py:28: SettingWithCopyWarning: \n",
      "A value is trying to be set on a copy of a slice from a DataFrame.\n",
      "Try using .loc[row_indexer,col_indexer] = value instead\n",
      "\n",
      "See the caveats in the documentation: https://pandas.pydata.org/pandas-docs/stable/user_guide/indexing.html#returning-a-view-versus-a-copy\n",
      "  comp['ps']=np.where(comp['pstkrv'].isnull(), comp['pstkl'], comp['pstkrv'])\n",
      "/tmp/ipykernel_8105/2612060673.py:29: SettingWithCopyWarning: \n",
      "A value is trying to be set on a copy of a slice from a DataFrame.\n",
      "Try using .loc[row_indexer,col_indexer] = value instead\n",
      "\n",
      "See the caveats in the documentation: https://pandas.pydata.org/pandas-docs/stable/user_guide/indexing.html#returning-a-view-versus-a-copy\n",
      "  comp['ps']=np.where(comp['ps'].isnull(),comp['pstk'], comp['ps'])\n",
      "/tmp/ipykernel_8105/2612060673.py:30: SettingWithCopyWarning: \n",
      "A value is trying to be set on a copy of a slice from a DataFrame.\n",
      "Try using .loc[row_indexer,col_indexer] = value instead\n",
      "\n",
      "See the caveats in the documentation: https://pandas.pydata.org/pandas-docs/stable/user_guide/indexing.html#returning-a-view-versus-a-copy\n",
      "  comp['ps']=np.where(comp['ps'].isnull(),0,comp['ps'])\n",
      "/tmp/ipykernel_8105/2612060673.py:32: SettingWithCopyWarning: \n",
      "A value is trying to be set on a copy of a slice from a DataFrame.\n",
      "Try using .loc[row_indexer,col_indexer] = value instead\n",
      "\n",
      "See the caveats in the documentation: https://pandas.pydata.org/pandas-docs/stable/user_guide/indexing.html#returning-a-view-versus-a-copy\n",
      "  comp['txditc']=comp['txditc'].fillna(0)\n",
      "/tmp/ipykernel_8105/2612060673.py:35: SettingWithCopyWarning: \n",
      "A value is trying to be set on a copy of a slice from a DataFrame.\n",
      "Try using .loc[row_indexer,col_indexer] = value instead\n",
      "\n",
      "See the caveats in the documentation: https://pandas.pydata.org/pandas-docs/stable/user_guide/indexing.html#returning-a-view-versus-a-copy\n",
      "  comp['be']=comp['seq']+comp['txditc']-comp['ps']\n",
      "/tmp/ipykernel_8105/2612060673.py:36: SettingWithCopyWarning: \n",
      "A value is trying to be set on a copy of a slice from a DataFrame.\n",
      "Try using .loc[row_indexer,col_indexer] = value instead\n",
      "\n",
      "See the caveats in the documentation: https://pandas.pydata.org/pandas-docs/stable/user_guide/indexing.html#returning-a-view-versus-a-copy\n",
      "  comp['be']=np.where(comp['be']>0, comp['be'], np.nan)\n"
     ]
    },
    {
     "name": "stdout",
     "output_type": "stream",
     "text": [
      "         gvkey   datadate  year      be  count\n",
      "0       001000 1961-12-31  1961     NaN      0\n",
      "1       001000 1962-12-31  1962     NaN      1\n",
      "2       001000 1963-12-31  1963   0.561      2\n",
      "3       001000 1964-12-31  1964   0.627      3\n",
      "4       001000 1965-12-31  1965   0.491      4\n",
      "...        ...        ...   ...     ...    ...\n",
      "901626  356289 2023-06-30  2023  16.393      2\n",
      "901628  356289 2024-06-30  2024  17.437      3\n",
      "901630  356687 2021-12-31  2021     NaN      0\n",
      "901632  356687 2022-12-31  2022  41.683      1\n",
      "901634  356687 2023-12-31  2023  87.766      2\n",
      "\n",
      "[565812 rows x 5 columns]\n"
     ]
    }
   ],
   "source": [
    "columns_to_read = ['gvkey', 'datadate', 'at', 'pstkl', 'txditc', 'pstkrv', 'seq', 'pstk', 'indfmt', 'datafmt', 'popsrc', 'consol']\n",
    "\n",
    "# Read the specified columns\n",
    "df, meta = pyreadstat.read_file_multiprocessing(pyreadstat.read_sas7bdat, funda, num_processes=32)\n",
    "\n",
    "df = df[columns_to_read]\n",
    "print(meta.column_names)\n",
    "\n",
    "# Convert 'datadate' from SAS date to datetime\n",
    "# SAS epoch is January 1, 1960\n",
    "sas_epoch = pd.to_datetime('1960-01-01')\n",
    "df['datadate'] = sas_epoch + pd.to_timedelta(df['datadate'], unit='D')\n",
    "\n",
    "# Apply filters\n",
    "comp = df[\n",
    "    (df['indfmt'] == 'INDL') &\n",
    "    (df['datafmt'] == 'STD') &\n",
    "    (df['popsrc'] == 'D') &\n",
    "    (df['consol'] == 'C') &\n",
    "    (df['datadate'] >= '1959-01-01') \n",
    "]\n",
    "\n",
    "print(df.columns)\n",
    "\n",
    "comp['year']=comp['datadate'].dt.year\n",
    "\n",
    "# create preferrerd stock\n",
    "comp['ps']=np.where(comp['pstkrv'].isnull(), comp['pstkl'], comp['pstkrv'])\n",
    "comp['ps']=np.where(comp['ps'].isnull(),comp['pstk'], comp['ps'])\n",
    "comp['ps']=np.where(comp['ps'].isnull(),0,comp['ps'])\n",
    "\n",
    "comp['txditc']=comp['txditc'].fillna(0)\n",
    "\n",
    "# create book equity\n",
    "comp['be']=comp['seq']+comp['txditc']-comp['ps']\n",
    "comp['be']=np.where(comp['be']>0, comp['be'], np.nan)\n",
    "\n",
    "# number of years in Compustat\n",
    "comp=comp.sort_values(by=['gvkey','datadate'])\n",
    "comp['count']=comp.groupby(['gvkey']).cumcount()\n",
    "\n",
    "comp=comp[['gvkey','datadate','year','be','count']]\n",
    "\n",
    "print(comp)\n"
   ]
  },
  {
   "cell_type": "code",
   "execution_count": null,
   "metadata": {},
   "outputs": [],
   "source": []
  }
 ],
 "metadata": {
  "kernelspec": {
   "display_name": "Python 3",
   "language": "python",
   "name": "python3"
  },
  "language_info": {
   "codemirror_mode": {
    "name": "ipython",
    "version": 3
   },
   "file_extension": ".py",
   "mimetype": "text/x-python",
   "name": "python",
   "nbconvert_exporter": "python",
   "pygments_lexer": "ipython3",
   "version": "3.12.7"
  }
 },
 "nbformat": 4,
 "nbformat_minor": 2
}
