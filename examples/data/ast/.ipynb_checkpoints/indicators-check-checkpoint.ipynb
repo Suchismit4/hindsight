{
 "cells": [
  {
   "cell_type": "code",
   "execution_count": 1,
   "id": "3f7b6eb1-ac6e-4a56-afe2-93b47dc5372c",
   "metadata": {},
   "outputs": [],
   "source": [
    "# %autosave 15"
   ]
  },
  {
   "cell_type": "code",
   "execution_count": 2,
   "id": "faf6b6ed-223a-4b75-afec-5d2ad60f629b",
   "metadata": {},
   "outputs": [
    {
     "name": "stdout",
     "output_type": "stream",
     "text": [
      "Requirement already satisfied: pyreadstat in /home/ubuntu/conda/envs/jax/lib/python3.12/site-packages (1.2.9)\n",
      "Requirement already satisfied: pandas_ta in /home/ubuntu/conda/envs/jax/lib/python3.12/site-packages (0.3.14b0)\n",
      "Requirement already satisfied: xarray_jax in /home/ubuntu/conda/envs/jax/lib/python3.12/site-packages (0.0.5)\n",
      "Requirement already satisfied: graphviz in /home/ubuntu/conda/envs/jax/lib/python3.12/site-packages (0.20.3)\n",
      "Requirement already satisfied: netcdf4 in /home/ubuntu/conda/envs/jax/lib/python3.12/site-packages (1.7.2)\n",
      "Requirement already satisfied: pandas>=1.2.0 in /home/ubuntu/conda/envs/jax/lib/python3.12/site-packages (from pyreadstat) (2.2.3)\n",
      "Requirement already satisfied: equinox<0.12.0,>=0.11.7 in /home/ubuntu/conda/envs/jax/lib/python3.12/site-packages (from xarray_jax) (0.11.8)\n",
      "Requirement already satisfied: jax<0.5.0,>=0.4.33 in /home/ubuntu/conda/envs/jax/lib/python3.12/site-packages (from xarray_jax) (0.4.35)\n",
      "Requirement already satisfied: xarray<2025.0.0,>=2024.9.0 in /home/ubuntu/conda/envs/jax/lib/python3.12/site-packages (from xarray_jax) (2024.10.0)\n",
      "Requirement already satisfied: cftime in /home/ubuntu/conda/envs/jax/lib/python3.12/site-packages (from netcdf4) (1.6.4.post1)\n",
      "Requirement already satisfied: certifi in /home/ubuntu/conda/envs/jax/lib/python3.12/site-packages (from netcdf4) (2024.8.30)\n",
      "Requirement already satisfied: numpy in /home/ubuntu/conda/envs/jax/lib/python3.12/site-packages (from netcdf4) (2.2.6)\n",
      "Requirement already satisfied: jaxtyping>=0.2.20 in /home/ubuntu/conda/envs/jax/lib/python3.12/site-packages (from equinox<0.12.0,>=0.11.7->xarray_jax) (0.2.34)\n",
      "Requirement already satisfied: typing-extensions>=4.5.0 in /home/ubuntu/conda/envs/jax/lib/python3.12/site-packages (from equinox<0.12.0,>=0.11.7->xarray_jax) (4.12.2)\n",
      "Requirement already satisfied: jaxlib<=0.4.35,>=0.4.34 in /home/ubuntu/conda/envs/jax/lib/python3.12/site-packages (from jax<0.5.0,>=0.4.33->xarray_jax) (0.4.35)\n",
      "Requirement already satisfied: ml-dtypes>=0.4.0 in /home/ubuntu/conda/envs/jax/lib/python3.12/site-packages (from jax<0.5.0,>=0.4.33->xarray_jax) (0.5.0)\n",
      "Requirement already satisfied: opt-einsum in /home/ubuntu/conda/envs/jax/lib/python3.12/site-packages (from jax<0.5.0,>=0.4.33->xarray_jax) (3.4.0)\n",
      "Requirement already satisfied: scipy>=1.10 in /home/ubuntu/conda/envs/jax/lib/python3.12/site-packages (from jax<0.5.0,>=0.4.33->xarray_jax) (1.14.1)\n",
      "Requirement already satisfied: python-dateutil>=2.8.2 in /home/ubuntu/conda/envs/jax/lib/python3.12/site-packages (from pandas>=1.2.0->pyreadstat) (2.9.0.post0)\n",
      "Requirement already satisfied: pytz>=2020.1 in /home/ubuntu/conda/envs/jax/lib/python3.12/site-packages (from pandas>=1.2.0->pyreadstat) (2024.2)\n",
      "Requirement already satisfied: tzdata>=2022.7 in /home/ubuntu/conda/envs/jax/lib/python3.12/site-packages (from pandas>=1.2.0->pyreadstat) (2024.2)\n",
      "Requirement already satisfied: packaging>=23.1 in /home/ubuntu/conda/envs/jax/lib/python3.12/site-packages (from xarray<2025.0.0,>=2024.9.0->xarray_jax) (24.1)\n",
      "Requirement already satisfied: typeguard==2.13.3 in /home/ubuntu/conda/envs/jax/lib/python3.12/site-packages (from jaxtyping>=0.2.20->equinox<0.12.0,>=0.11.7->xarray_jax) (2.13.3)\n",
      "Requirement already satisfied: six>=1.5 in /home/ubuntu/conda/envs/jax/lib/python3.12/site-packages (from python-dateutil>=2.8.2->pandas>=1.2.0->pyreadstat) (1.16.0)\n"
     ]
    }
   ],
   "source": [
    "!pip install pyreadstat pandas_ta xarray_jax graphviz netcdf4"
   ]
  },
  {
   "cell_type": "code",
   "execution_count": 3,
   "id": "4d28d323-ee75-4d6e-adaa-1f9db1f18a7a",
   "metadata": {},
   "outputs": [
    {
     "ename": "IndentationError",
     "evalue": "expected an indented block after 'else' statement on line 961 (functions.py, line 963)",
     "output_type": "error",
     "traceback": [
      "Traceback \u001b[36m(most recent call last)\u001b[39m:\n",
      "  File \u001b[92m/home/ubuntu/conda/envs/jax/lib/python3.12/site-packages/IPython/core/interactiveshell.py:3670\u001b[39m in \u001b[95mrun_code\u001b[39m\n    exec(code_obj, self.user_global_ns, self.user_ns)\n",
      "  Cell \u001b[92mIn[3]\u001b[39m\u001b[92m, line 15\u001b[39m\n    from src.data.ast import parse_formula\n",
      "\u001b[36m  \u001b[39m\u001b[36mFile \u001b[39m\u001b[32m/home/ubuntu/projects/hindsight/src/data/ast/__init__.py:24\u001b[39m\n\u001b[31m    \u001b[39m\u001b[31mfrom .functions import register_function, get_registered_functions, get_function_context\u001b[39m\n",
      "  \u001b[36mFile \u001b[39m\u001b[32m/home/ubuntu/projects/hindsight/src/data/ast/functions.py:963\u001b[39m\n\u001b[31m    \u001b[39m\u001b[31mreturn data.shift(time=periods)\u001b[39m\n    ^\n\u001b[31mIndentationError\u001b[39m\u001b[31m:\u001b[39m expected an indented block after 'else' statement on line 961\n"
     ]
    }
   ],
   "source": [
    "\"\"\"\n",
    "Simple test for formula loading and evaluation.\n",
    "\"\"\"\n",
    "import os\n",
    "import sys\n",
    "sys.path.insert(0, os.path.abspath(os.path.join(\"/home/ubuntu/projects/hindsight/examples/data/ast\", '../../..')))\n",
    "\n",
    "import matplotlib.pyplot as plt\n",
    "import jax\n",
    "import pandas as pd\n",
    "import pandas_ta as ta\n",
    "import jax.numpy as jnp\n",
    "\n",
    "from src import DataManager\n",
    "from src.data.ast import parse_formula\n",
    "from src.data.ast.manager import FormulaManager\n",
    "from src.data.ast.functions import register_built_in_functions, get_function_context\n",
    "from src.data.core import prepare_for_jit"
   ]
  },
  {
   "cell_type": "code",
   "execution_count": null,
   "id": "4d08863c-725f-436d-b26c-32f2b42109f3",
   "metadata": {},
   "outputs": [],
   "source": [
    "# Register built-in functions\n",
    "register_built_in_functions()"
   ]
  },
  {
   "cell_type": "code",
   "execution_count": null,
   "id": "f685ac22-2757-4d2e-894a-01a397e7dd5f",
   "metadata": {},
   "outputs": [],
   "source": [
    "# Initialize and load formulas\n",
    "manager = FormulaManager()\n",
    "# DEPRECATED: manager.load_directory(\"../../.././src/data/ast/definitions\")\n",
    "# init of formula manager will autoload all defns"
   ]
  },
  {
   "cell_type": "code",
   "execution_count": null,
   "id": "fba77381-4c87-4fb9-bd26-042b641e26e9",
   "metadata": {},
   "outputs": [],
   "source": [
    "# Load CRSP data\n",
    "dm = DataManager()\n",
    "ds = dm.get_data(\n",
    "    {\n",
    "        \"data_sources\": [\n",
    "            {\n",
    "                \"data_path\": \"wrds/equity/crsp\",\n",
    "                \"config\": {\n",
    "                    \"start_date\": \"2020-01-01\",\n",
    "                    \"end_date\": \"2024-01-01\",\n",
    "                    \"freq\": \"D\",\n",
    "                    \"filters\": {\n",
    "                        \"date__gte\": \"2020-01-01\"\n",
    "                    },\n",
    "                    \"processors\": {\n",
    "                        \"replace_values\": {\n",
    "                            \"source\": \"delistings\",\n",
    "                            \"rename\": [[\"dlstdt\", \"time\"]],\n",
    "                            \"identifier\": \"permno\",\n",
    "                            \"from_var\": \"dlret\",\n",
    "                            \"to_var\": \"ret\"\n",
    "                        },\n",
    "                        \"merge_table\": [\n",
    "                            {\n",
    "                                \"source\": \"msenames\",\n",
    "                                \"identifier\": \"permno\",\n",
    "                                \"column\": \"comnam\",\n",
    "                                \"axis\": \"asset\"\n",
    "                            },\n",
    "                            {\n",
    "                                \"source\": \"msenames\",\n",
    "                                \"identifier\": \"permno\",\n",
    "                                \"column\": \"exchcd\",\n",
    "                                \"axis\": \"asset\"\n",
    "                            }\n",
    "                        ],\n",
    "                        \"set_permco_coord\": True,\n",
    "                        \"fix_market_equity\": True\n",
    "                    }\n",
    "                }\n",
    "            }\n",
    "        ]\n",
    "    }\n",
    ")['wrds/equity/crsp']"
   ]
  },
  {
   "cell_type": "code",
   "execution_count": null,
   "id": "b99b92d2-589c-4bd7-90e2-c2a87a95f155",
   "metadata": {},
   "outputs": [],
   "source": [
    "# create the closing prices\n",
    "\n",
    "ds[\"close\"] = ds[\"prc\"] / ds[\"cfacpr\"]"
   ]
  },
  {
   "cell_type": "markdown",
   "id": "b8ddaf1b-12ff-4198-bb55-84f1fceb3153",
   "metadata": {},
   "source": [
    "#### Computation & Check"
   ]
  },
  {
   "cell_type": "code",
   "execution_count": null,
   "id": "912cb78f-43c5-4dff-bdf7-f3d8bd7fbac6",
   "metadata": {},
   "outputs": [],
   "source": [
    "# Prepare data for JIT, since some vars are not JIT compatible. For example, strings.\n",
    "ds_jit, recover = prepare_for_jit(ds)\n",
    "\n",
    "ds_jit"
   ]
  },
  {
   "cell_type": "code",
   "execution_count": null,
   "id": "1fed184b-f887-4741-aa90-26b55a2beb7d",
   "metadata": {},
   "outputs": [],
   "source": [
    "## Uncomment the below line to view the recovery dict (this primarily contains metadata and\n",
    "## vars that were removed to make the dataset JIT compatible) \n",
    "\n",
    "# recover"
   ]
  },
  {
   "cell_type": "markdown",
   "id": "041b4cb9-416c-40b4-a32e-0b3160aeae2a",
   "metadata": {},
   "source": [
    "### RSI"
   ]
  },
  {
   "cell_type": "code",
   "execution_count": null,
   "id": "86132c42-bf29-4c98-b098-750198992cd1",
   "metadata": {},
   "outputs": [],
   "source": [
    "# Actual computation\n",
    "\n",
    "# Create evaluation context with both data and functions\n",
    "context = {\n",
    "    \"price\": \"close\",\n",
    "    \"window\": 14,\n",
    "    \"_dataset\": ds_jit\n",
    "}\n",
    "context.update(get_function_context())  # Add all registered functions\n",
    "\n",
    "# JIT compile the evaluation\n",
    "# @jax.jit \n",
    "def _eval(context):\n",
    "    result = manager.evaluate(\"rsi\", context)\n",
    "    return result\n",
    "    \n",
    "## ideally this should be JIT compiled but ipy kernel doesn't seem to be happy with it. Ignore for now."
   ]
  },
  {
   "cell_type": "code",
   "execution_count": null,
   "id": "f93180d3-ad22-47e1-8eb1-bbf4d8556586",
   "metadata": {
    "scrolled": true
   },
   "outputs": [],
   "source": [
    "result = _eval(context) # eval w/ the context."
   ]
  },
  {
   "cell_type": "code",
   "execution_count": null,
   "id": "c6065f12-b2ef-4613-bf89-b24e26168666",
   "metadata": {},
   "outputs": [],
   "source": [
    "asset_permno = 14593 # APPLE's permno\n",
    "ds = ds.assign(rsi=result) # Assigning RSI to the original dataset"
   ]
  },
  {
   "cell_type": "code",
   "execution_count": null,
   "id": "afd0b320-20dd-44f7-baa0-9edfb70abeee",
   "metadata": {},
   "outputs": [],
   "source": [
    "# All computations and assignments are done. We can now move back to a more manageable format for the ds.\n",
    "\n",
    "# Select APPLE and the vars we just computed + the closing price.\n",
    "subset = ds[['rsi', 'close']].sel(asset=asset_permno) \n",
    "ts = subset.dt.to_time_indexed() # refer to the docs. (essentially flattens the time dimension)"
   ]
  },
  {
   "cell_type": "code",
   "execution_count": null,
   "id": "6d82f038-3fbc-48a2-bdb6-6c540b0f7986",
   "metadata": {
    "scrolled": true
   },
   "outputs": [],
   "source": [
    "# Since time is now a single flattened dimension, X-array plot functions work happily.\n",
    "# X-Array does not support multidimensional time plotting, hence ALWAYS flatten before plot (for now)\n",
    "ts['rsi'].plot.line(x=\"time\", label='RSI', color='blue', alpha=0.5) \n",
    "ts['close'].plot.line(x=\"time\", label='Adjusted closing prices', color='cyan', alpha=0.5) \n",
    "plt.title(f\"Adjusted Price vs. RSI (Asset: {asset_permno})\")\n",
    "plt.xlabel(\"Time\")\n",
    "plt.ylabel(\"Price\")\n",
    "plt.legend()\n",
    "plt.grid(False)"
   ]
  },
  {
   "cell_type": "code",
   "execution_count": null,
   "id": "a49e5006-6ecc-45b6-a51d-eb939f9a7fae",
   "metadata": {},
   "outputs": [],
   "source": [
    "# We will do manual eye-check.\n",
    "\n",
    "# Get the RSIs and the closing prices from the flattened ds and conver to pandas.\n",
    "df = ts[['rsi', 'close']].to_dataframe()\n",
    "\n",
    "df[-20:] # view last 10 records."
   ]
  },
  {
   "cell_type": "code",
   "execution_count": null,
   "id": "b5bc7b16-9b6d-4358-91ad-a21370d093e0",
   "metadata": {},
   "outputs": [],
   "source": [
    "# Pandas TA Version\n",
    "\n",
    "rsi_pd = ta.rsi(df['close'].dropna(), length=14)\n",
    "\n",
    "rsi_pd[-20:]"
   ]
  },
  {
   "cell_type": "markdown",
   "id": "94345788-7f1d-4d84-94a4-3d6ae6fce812",
   "metadata": {},
   "source": [
    "### ALMA"
   ]
  },
  {
   "cell_type": "code",
   "execution_count": null,
   "id": "98af0fa1-546e-4ab5-9b2f-4e27b6be452e",
   "metadata": {},
   "outputs": [],
   "source": [
    "# Create evaluation context with both data and functions\n",
    "context = {\n",
    "    \"price\": \"close\",\n",
    "    \"window\": 10,    # Default for ALMA\n",
    "    \"offset\": 0.85,  # Default offset\n",
    "    \"sigma\": 6.0,    # Default sigma\n",
    "    \"_dataset\": ds_jit\n",
    "}\n",
    "context.update(get_function_context())\n",
    "\n",
    "# JIT compile the evaluation\n",
    "def _eval(context):\n",
    "    result = manager.evaluate(\"alma\", context)\n",
    "    return result\n",
    "\n",
    "result = _eval(context) # eval w/ the context.\n",
    "\n",
    "asset_permno = 14593 # APPLE's permno\n",
    "ds = ds.assign(alma=result) \n",
    "\n",
    "# Select APPLE and the vars we just computed + the closing price.\n",
    "subset = ds[['alma', 'close']].sel(asset=asset_permno) \n",
    "ts = subset.dt.to_time_indexed() "
   ]
  },
  {
   "cell_type": "code",
   "execution_count": null,
   "id": "49456f8d-c7c4-4aa7-9aae-2d9e1bd514a4",
   "metadata": {},
   "outputs": [],
   "source": [
    "# Since time is now a single flattened dimension, X-array plot functions work happily.\n",
    "# X-Array does not support multidimensional time plotting, hence ALWAYS flatten before plot (for now)\n",
    "ts['alma'].plot.line(x=\"time\", label='ALMA', color='blue', alpha=0.5) \n",
    "ts['close'].plot.line(x=\"time\", label='Adjusted closing prices', color='cyan', alpha=0.5) \n",
    "plt.title(f\"Adjusted Price vs. ALMA (Asset: {asset_permno})\")\n",
    "plt.xlabel(\"Time\")\n",
    "plt.ylabel(\"Price\")\n",
    "plt.legend()\n",
    "plt.grid(False)"
   ]
  },
  {
   "cell_type": "code",
   "execution_count": null,
   "id": "0272c4c3-18b4-48f8-b9f0-9ab3d12aae9b",
   "metadata": {},
   "outputs": [],
   "source": [
    "# We will do manual eye-check.\n",
    "\n",
    "df = ts[['alma', 'close']].to_dataframe()\n",
    "\n",
    "df[-20:]['alma'] # view last 10 records."
   ]
  },
  {
   "cell_type": "code",
   "execution_count": null,
   "id": "5a016e77-4eb7-42d8-8b25-3fc8989bddfb",
   "metadata": {},
   "outputs": [],
   "source": [
    "# Pandas TA Version\n",
    "\n",
    "alma_pd = ta.alma(df['close'].dropna(), length=10, sigma=6, distribution_offset=0.85, offset=None)\n",
    "\n",
    "alma_pd[-20:]"
   ]
  },
  {
   "cell_type": "markdown",
   "id": "b01785a1-17ce-4472-a752-ec7e82994991",
   "metadata": {},
   "source": [
    "### FWMA"
   ]
  },
  {
   "cell_type": "code",
   "execution_count": null,
   "id": "ab395880-1d7a-440d-90ac-e5c710169e84",
   "metadata": {},
   "outputs": [],
   "source": [
    "manager.list_formulas()"
   ]
  },
  {
   "cell_type": "code",
   "execution_count": null,
   "id": "1bc657fe-291c-4541-9053-fce3a8ce3896",
   "metadata": {},
   "outputs": [],
   "source": [
    "# Create evaluation context with both data and functions\n",
    "context = {\n",
    "    \"price\": \"close\",\n",
    "    \"window\": 10,\n",
    "    \"_dataset\": ds_jit\n",
    "}\n",
    "context.update(get_function_context())\n",
    "\n",
    "# JIT compile the evaluation\n",
    "def _eval(context):\n",
    "    result = manager.evaluate(\"fwma\", context)\n",
    "    return result\n",
    "\n",
    "result = _eval(context) # eval w/ the context.\n",
    "\n",
    "asset_permno = 14593 # APPLE's permno\n",
    "ds = ds.assign(fwma=result) \n",
    "\n",
    "# Select APPLE and the vars we just computed + the closing price.\n",
    "subset = ds[['fwma', 'close']].sel(asset=asset_permno) \n",
    "ts = subset.dt.to_time_indexed() "
   ]
  },
  {
   "cell_type": "code",
   "execution_count": null,
   "id": "754b31f6-91f8-44f3-a2a8-98e0fb6fbbd0",
   "metadata": {},
   "outputs": [],
   "source": [
    "ts['fwma'].plot.line(x=\"time\", label='fwma', color='blue', alpha=0.5) \n",
    "ts['close'].plot.line(x=\"time\", label='Adjusted closing prices', color='cyan', alpha=0.5) \n",
    "plt.title(f\"Adjusted Price vs. FWMA (Asset: {asset_permno})\")\n",
    "plt.xlabel(\"Time\")\n",
    "plt.ylabel(\"Price\")\n",
    "plt.legend()\n",
    "plt.grid(False)"
   ]
  },
  {
   "cell_type": "code",
   "execution_count": null,
   "id": "1def0e11-ca70-483b-929c-eebe7eb89ed6",
   "metadata": {},
   "outputs": [],
   "source": [
    "# We will do manual eye-check.\n",
    "\n",
    "df = ts[['fwma', 'close']].to_dataframe()\n",
    "\n",
    "df[-20:]['fwma'] # view last 10 records."
   ]
  },
  {
   "cell_type": "code",
   "execution_count": null,
   "id": "ecdb9182-c0bf-482c-a72a-442dd457d26b",
   "metadata": {},
   "outputs": [],
   "source": [
    "# Pandas TA Version\n",
    "\n",
    "fwma_pd = ta.fwma(df['close'].dropna(), length=10)\n",
    "\n",
    "fwma_pd[-20:]"
   ]
  },
  {
   "cell_type": "markdown",
   "id": "855f0029-bd1f-4fb5-87a8-f1be55f9a7ff",
   "metadata": {},
   "source": [
    "### HMA"
   ]
  },
  {
   "cell_type": "code",
   "execution_count": null,
   "id": "d91264e6-5a78-4f12-9e07-b62fe63d91a4",
   "metadata": {},
   "outputs": [],
   "source": [
    "INDICATOR_NAME = \"hma\"\n",
    "\n",
    "# Create evaluation context with both data and functions\n",
    "context = {\n",
    "    \"price\": \"close\",\n",
    "    \"window\": 10,\n",
    "    \"_dataset\": ds_jit\n",
    "}\n",
    "context.update(get_function_context())\n",
    "\n",
    "# JIT compile the evaluation\n",
    "def _eval(context):\n",
    "    result = manager.evaluate(INDICATOR_NAME, context)\n",
    "    return result\n",
    "\n",
    "result = _eval(context) # eval w/ the context.\n",
    "\n",
    "asset_permno = 14593 # APPLE's permno\n",
    "ds = ds.assign(hma=result)\n",
    "\n",
    "# Select APPLE and the vars we just computed + the closing price.\n",
    "subset = ds[[INDICATOR_NAME, 'close']].sel(asset=asset_permno) \n",
    "ts = subset.dt.to_time_indexed() "
   ]
  },
  {
   "cell_type": "code",
   "execution_count": null,
   "id": "6f84a000-28af-4e88-8476-00372c2ea9ff",
   "metadata": {},
   "outputs": [],
   "source": [
    "ts[INDICATOR_NAME].plot.line(x=\"time\", label=INDICATOR_NAME, color='blue', alpha=0.5) \n",
    "ts['close'].plot.line(x=\"time\", label='Adjusted closing prices', color='cyan', alpha=0.5) \n",
    "plt.title(f\"Adjusted Price vs. {INDICATOR_NAME} (Asset: {asset_permno})\")\n",
    "plt.xlabel(\"Time\")\n",
    "plt.ylabel(\"Price\")\n",
    "plt.legend()\n",
    "plt.grid(False)"
   ]
  },
  {
   "cell_type": "code",
   "execution_count": null,
   "id": "2018f168-108e-49fd-b573-b7c8ca956cec",
   "metadata": {},
   "outputs": [],
   "source": [
    "# We will do manual eye-check.\n",
    "\n",
    "df = ts[[INDICATOR_NAME, 'close']].to_dataframe()\n",
    "\n",
    "df[-20:][INDICATOR_NAME] # view last 10 records."
   ]
  },
  {
   "cell_type": "code",
   "execution_count": null,
   "id": "8c77a12f-35ff-4344-b1c7-c0b74d587648",
   "metadata": {},
   "outputs": [],
   "source": [
    "# Pandas TA Version\n",
    "\n",
    "hma_pd = ta.hma(df['close'].dropna(), length=10)\n",
    "\n",
    "hma_pd[-20:]"
   ]
  },
  {
   "cell_type": "markdown",
   "id": "46a5a32f-f58b-4bad-ae4a-73a3f2453ae0",
   "metadata": {},
   "source": [
    "### HWMA"
   ]
  },
  {
   "cell_type": "code",
   "execution_count": null,
   "id": "2a21a211-11e7-4d08-a755-803ed6d67d12",
   "metadata": {},
   "outputs": [],
   "source": [
    "INDICATOR_NAME = \"hwma\"\n",
    "\n",
    "# Create evaluation context with both data and functions\n",
    "context = {\n",
    "    \"price\": \"close\",\n",
    "    \"window\": 10,\n",
    "    \"_dataset\": ds_jit,\n",
    "    \"na\": 0.2,\n",
    "    \"nb\": 0.1,\n",
    "    \"nc\": 0.1,\n",
    "}\n",
    "context.update(get_function_context())\n",
    "\n",
    "# JIT compile the evaluation\n",
    "def _eval(context):\n",
    "    result = manager.evaluate(INDICATOR_NAME, context)\n",
    "    return result\n",
    "\n",
    "result = _eval(context) # eval w/ the context.\n",
    "\n",
    "asset_permno = 14593 # APPLE's permno\n",
    "ds = ds.assign(hwma=result)\n",
    "\n",
    "# Select APPLE and the vars we just computed + the closing price.\n",
    "subset = ds[[INDICATOR_NAME, 'close']].sel(asset=asset_permno) \n",
    "ts = subset.dt.to_time_indexed() "
   ]
  },
  {
   "cell_type": "code",
   "execution_count": null,
   "id": "de679435-79ab-415a-bb78-4236936c0bf5",
   "metadata": {},
   "outputs": [],
   "source": [
    "ts[INDICATOR_NAME].plot.line(x=\"time\", label=INDICATOR_NAME, color='blue', alpha=0.5) \n",
    "ts['close'].plot.line(x=\"time\", label='Adjusted closing prices', color='cyan', alpha=0.5) \n",
    "plt.title(f\"Adjusted Price vs. {INDICATOR_NAME} (Asset: {asset_permno})\")\n",
    "plt.xlabel(\"Time\")\n",
    "plt.ylabel(\"Price\")\n",
    "plt.legend()\n",
    "plt.grid(False)"
   ]
  },
  {
   "cell_type": "code",
   "execution_count": null,
   "id": "f1a55710-9788-4d22-8afb-5596fb748c7e",
   "metadata": {},
   "outputs": [],
   "source": [
    "# We will do manual eye-check.\n",
    "\n",
    "df = ts[[INDICATOR_NAME, 'close']].to_dataframe()\n",
    "\n",
    "df[-10:][INDICATOR_NAME] # view last 10 records."
   ]
  },
  {
   "cell_type": "code",
   "execution_count": null,
   "id": "ddf0bd10-489c-492d-b82c-4269b647bff5",
   "metadata": {},
   "outputs": [],
   "source": [
    "# Pandas TA Version\n",
    "\n",
    "hwma_pd = ta.hwma(df['close'].dropna())\n",
    "\n",
    "hwma_pd[-10:]"
   ]
  },
  {
   "cell_type": "markdown",
   "id": "3cae70c9-198f-48d0-8915-6e1857529cf5",
   "metadata": {},
   "source": [
    "### KAMA"
   ]
  },
  {
   "cell_type": "code",
   "execution_count": null,
   "id": "08779a3a-c30a-43b9-9169-30d66e6f439b",
   "metadata": {},
   "outputs": [],
   "source": [
    "INDICATOR_NAME = \"kama\"\n",
    "\n",
    "# Create evaluation context with both data and functions\n",
    "context = {\n",
    "    \"price\": \"close\",\n",
    "    \"length\": 10,\n",
    "    \"_dataset\": ds_jit,\n",
    "    \"fast\": 2,\n",
    "    \"slow\": 30,\n",
    "    \"drift\": 1,\n",
    "    \"fast_sc\": (2/(2+1)),\n",
    "    \"slow_sc\": (2/(30+1)),\n",
    "    \n",
    "}\n",
    "context.update(get_function_context())\n",
    "\n",
    "# JIT compile the evaluation\n",
    "def _eval(context):\n",
    "    result = manager.evaluate(INDICATOR_NAME, context)\n",
    "    return result\n",
    "\n",
    "result = _eval(context) # eval w/ the context.\n",
    "\n",
    "asset_permno = 14593 # APPLE's permno\n",
    "ds = ds.assign(kama=result)\n",
    "\n",
    "# Select APPLE and the vars we just computed + the closing price.\n",
    "subset = ds[[INDICATOR_NAME, 'close']].sel(asset=asset_permno) \n",
    "ts = subset.dt.to_time_indexed() "
   ]
  },
  {
   "cell_type": "code",
   "execution_count": null,
   "id": "e436902c-8df2-4739-8916-1fb499e43b51",
   "metadata": {},
   "outputs": [],
   "source": [
    "ts[INDICATOR_NAME].plot.line(x=\"time\", label=INDICATOR_NAME, color='blue', alpha=0.5) \n",
    "ts['close'].plot.line(x=\"time\", label='Adjusted closing prices', color='cyan', alpha=0.5) \n",
    "plt.title(f\"Adjusted Price vs. {INDICATOR_NAME} (Asset: {asset_permno})\")\n",
    "plt.xlabel(\"Time\")\n",
    "plt.ylabel(\"Price\")\n",
    "plt.legend()\n",
    "plt.grid(False)"
   ]
  },
  {
   "cell_type": "code",
   "execution_count": null,
   "id": "bfc20074-293a-4a78-925c-f5a8d8c12257",
   "metadata": {},
   "outputs": [],
   "source": [
    "# We will do manual eye-check.\n",
    "\n",
    "df = ts[[INDICATOR_NAME, 'close']].to_dataframe()\n",
    "\n",
    "df[-10:][INDICATOR_NAME] # view last 10 records."
   ]
  },
  {
   "cell_type": "code",
   "execution_count": null,
   "id": "6c641da3-e5ed-4541-827f-873880c936ea",
   "metadata": {},
   "outputs": [],
   "source": [
    "# Pandas TA Version\n",
    "\n",
    "kama_pd = ta.kama(df['close'].dropna(), length=10, )\n",
    "\n",
    "kama_pd[-10:]"
   ]
  },
  {
   "cell_type": "markdown",
   "id": "722bbcd7-0a2c-4a17-b213-0b149811caa5",
   "metadata": {},
   "source": [
    "### EMA"
   ]
  },
  {
   "cell_type": "code",
   "execution_count": null,
   "id": "5c5f02db-0301-4db4-8064-94e041a76326",
   "metadata": {},
   "outputs": [],
   "source": [
    "from src.data.ast.parser import parse_formula, evaluate_formula\n",
    "from src.data.ast.functions import get_function_context\n",
    "\n",
    "# Define the EMA formula as a string\n",
    "EMA_FORMULA = \"ema($price, $window)\"\n",
    "INDICATOR_NAME = \"ema\"\n",
    "\n",
    "# Create evaluation context with both data and functions\n",
    "context = {\n",
    "    \"price\": \"close\",  # This tells the formula to use the 'close' column\n",
    "    \"window\": 24,      # 14-period EMA\n",
    "    \"_dataset\": ds_jit,  \n",
    "}\n",
    "\n",
    "# Add all registered functions to the context\n",
    "context.update(get_function_context())\n",
    "\n",
    "# Parse the formula using the vanilla method\n",
    "ema_ast = parse_formula(EMA_FORMULA)\n",
    "\n",
    "# Evaluate the parsed formula\n",
    "result, output_ds = evaluate_formula(ema_ast, context, formula_name=\"ema\")\n",
    "\n",
    "# The result is your EMA calculation\n",
    "asset_permno = 14593  # APPLE's permno\n",
    "\n",
    "# Add the result to your original dataset\n",
    "ds = ds.assign(ema=result)\n",
    "\n",
    "# Select APPLE and the vars we just computed + the closing price\n",
    "subset = ds[[\"ema\", 'close']].sel(asset=asset_permno) \n",
    "ts = subset.dt.to_time_indexed()"
   ]
  },
  {
   "cell_type": "code",
   "execution_count": null,
   "id": "cd41373c-0143-4f9a-872e-001c3cd0ede3",
   "metadata": {},
   "outputs": [],
   "source": [
    "ts[INDICATOR_NAME].plot.line(x=\"time\", label=INDICATOR_NAME, color='blue', alpha=0.5) \n",
    "ts['close'].plot.line(x=\"time\", label='Adjusted closing prices', color='cyan', alpha=0.5) \n",
    "plt.title(f\"Adjusted Price vs. {INDICATOR_NAME} (Asset: {asset_permno})\")\n",
    "plt.xlabel(\"Time\")\n",
    "plt.ylabel(\"Price\")\n",
    "plt.legend()\n",
    "plt.grid(False)"
   ]
  },
  {
   "cell_type": "code",
   "execution_count": null,
   "id": "e7c10914-6eb0-461a-bcb6-64e5b4dba029",
   "metadata": {},
   "outputs": [],
   "source": [
    "# We will do manual eye-check.\n",
    "\n",
    "df = ts[[INDICATOR_NAME, 'close']].to_dataframe()\n",
    "\n",
    "df[-10:][INDICATOR_NAME] # view last 10 records."
   ]
  },
  {
   "cell_type": "code",
   "execution_count": null,
   "id": "757391d2-d292-46a5-b927-4fab4d895f60",
   "metadata": {},
   "outputs": [],
   "source": [
    "# Pandas TA Version\n",
    "\n",
    "ema_pd = ta.ema(df['close'].dropna(), length=24)\n",
    "\n",
    "ema_pd[-10:]"
   ]
  },
  {
   "cell_type": "code",
   "execution_count": null,
   "id": "beeb954a-7f4e-4f4f-9571-7a8f29b4e095",
   "metadata": {},
   "outputs": [],
   "source": []
  }
 ],
 "metadata": {
  "kernelspec": {
   "display_name": "Python 3 (ipykernel)",
   "language": "python",
   "name": "python3"
  },
  "language_info": {
   "codemirror_mode": {
    "name": "ipython",
    "version": 3
   },
   "file_extension": ".py",
   "mimetype": "text/x-python",
   "name": "python",
   "nbconvert_exporter": "python",
   "pygments_lexer": "ipython3",
   "version": "3.12.7"
  }
 },
 "nbformat": 4,
 "nbformat_minor": 5
}
