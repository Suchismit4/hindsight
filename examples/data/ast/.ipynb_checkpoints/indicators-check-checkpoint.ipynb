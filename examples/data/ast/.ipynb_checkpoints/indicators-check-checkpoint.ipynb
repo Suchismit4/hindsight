{
 "cells": [
  {
   "cell_type": "code",
   "execution_count": 1,
   "id": "3f7b6eb1-ac6e-4a56-afe2-93b47dc5372c",
   "metadata": {},
   "outputs": [
    {
     "data": {
      "application/javascript": [
       "IPython.notebook.set_autosave_interval(15000)"
      ]
     },
     "metadata": {},
     "output_type": "display_data"
    },
    {
     "name": "stdout",
     "output_type": "stream",
     "text": [
      "Autosaving every 15 seconds\n"
     ]
    }
   ],
   "source": [
    "# %autosave 15"
   ]
  },
  {
   "cell_type": "code",
   "execution_count": 2,
   "id": "4d28d323-ee75-4d6e-adaa-1f9db1f18a7a",
   "metadata": {},
   "outputs": [],
   "source": [
    "\"\"\"\n",
    "Simple test for formula loading and evaluation.\n",
    "\"\"\"\n",
    "import os\n",
    "import sys\n",
    "sys.path.insert(0, os.path.abspath(os.path.join(\"/home/ubuntu/projects/hindsight/examples/data/ast\", '../../..')))\n",
    "\n",
    "import matplotlib.pyplot as plt\n",
    "import jax\n",
    "import pandas as pd\n",
    "import pandas_ta as ta\n",
    "import jax.numpy as jnp\n",
    "\n",
    "from src import DataManager\n",
    "from src.data.ast import parse_formula\n",
    "from src.data.ast.manager import FormulaManager\n",
    "from src.data.ast.functions import register_built_in_functions, get_function_context\n",
    "from src.data.core import prepare_for_jit"
   ]
  },
  {
   "cell_type": "code",
   "execution_count": 3,
   "id": "4d08863c-725f-436d-b26c-32f2b42109f3",
   "metadata": {},
   "outputs": [],
   "source": [
    "# Register built-in functions\n",
    "register_built_in_functions()"
   ]
  },
  {
   "cell_type": "code",
   "execution_count": 4,
   "id": "f685ac22-2757-4d2e-894a-01a397e7dd5f",
   "metadata": {},
   "outputs": [],
   "source": [
    "# Initialize and load formulas\n",
    "manager = FormulaManager()\n",
    "# DEPRECATED: manager.load_directory(\"../../.././src/data/ast/definitions\")\n",
    "# init of formula manager will autoload all defns"
   ]
  },
  {
   "cell_type": "code",
   "execution_count": null,
   "id": "fba77381-4c87-4fb9-bd26-042b641e26e9",
   "metadata": {},
   "outputs": [
    {
     "name": "stdout",
     "output_type": "stream",
     "text": [
      "wrds/equity/crsp: Attemping to load found cache(/home/suchismit/data/cache/wrds/equity/crsp/edcb130770ec1dbca15938371cc00f10_2020-01-01_2023-12-31.nc).\n"
     ]
    }
   ],
   "source": [
    "# Load CRSP data\n",
    "dm = DataManager()\n",
    "ds = dm.get_data(\n",
    "    {\n",
    "        \"data_sources\": [\n",
    "            {\n",
    "                \"data_path\": \"wrds/equity/crsp\",\n",
    "                \"config\": {\n",
    "                    \"start_date\": \"2020-01-01\",\n",
    "                    \"end_date\": \"2024-01-01\",\n",
    "                    \"freq\": \"D\",\n",
    "                    \"filters\": {\n",
    "                        \"date__gte\": \"2020-01-01\"\n",
    "                    },\n",
    "                    \"processors\": {\n",
    "                        \"replace_values\": {\n",
    "                            \"source\": \"delistings\",\n",
    "                            \"rename\": [[\"dlstdt\", \"time\"]],\n",
    "                            \"identifier\": \"permno\",\n",
    "                            \"from_var\": \"dlret\",\n",
    "                            \"to_var\": \"ret\"\n",
    "                        },\n",
    "                        \"merge_table\": [\n",
    "                            {\n",
    "                                \"source\": \"msenames\",\n",
    "                                \"identifier\": \"permno\",\n",
    "                                \"column\": \"comnam\",\n",
    "                                \"axis\": \"asset\"\n",
    "                            },\n",
    "                            {\n",
    "                                \"source\": \"msenames\",\n",
    "                                \"identifier\": \"permno\",\n",
    "                                \"column\": \"exchcd\",\n",
    "                                \"axis\": \"asset\"\n",
    "                            }\n",
    "                        ],\n",
    "                        \"set_permco_coord\": True,\n",
    "                        \"fix_market_equity\": True\n",
    "                    }\n",
    "                }\n",
    "            }\n",
    "        ]\n",
    "    }\n",
    ")['wrds/equity/crsp']"
   ]
  },
  {
   "cell_type": "code",
   "execution_count": null,
   "id": "b99b92d2-589c-4bd7-90e2-c2a87a95f155",
   "metadata": {},
   "outputs": [],
   "source": [
    "# create the closing prices\n",
    "\n",
    "ds[\"close\"] = ds[\"prc\"] / ds[\"cfacpr\"]"
   ]
  },
  {
   "cell_type": "markdown",
   "id": "b8ddaf1b-12ff-4198-bb55-84f1fceb3153",
   "metadata": {},
   "source": [
    "#### Computation & Check"
   ]
  },
  {
   "cell_type": "code",
   "execution_count": null,
   "id": "912cb78f-43c5-4dff-bdf7-f3d8bd7fbac6",
   "metadata": {},
   "outputs": [],
   "source": [
    "# Prepare data for JIT, since some vars are not JIT compatible. For example, strings.\n",
    "ds_jit, recover = prepare_for_jit(ds)\n",
    "\n",
    "ds_jit"
   ]
  },
  {
   "cell_type": "code",
   "execution_count": null,
   "id": "1fed184b-f887-4741-aa90-26b55a2beb7d",
   "metadata": {},
   "outputs": [],
   "source": [
    "## Uncomment the below line to view the recovery dict (this primarily contains metadata and\n",
    "## vars that were removed to make the dataset JIT compatible) \n",
    "\n",
    "# recover"
   ]
  },
  {
   "cell_type": "markdown",
   "id": "041b4cb9-416c-40b4-a32e-0b3160aeae2a",
   "metadata": {},
   "source": [
    "### RSI"
   ]
  },
  {
   "cell_type": "code",
   "execution_count": null,
   "id": "86132c42-bf29-4c98-b098-750198992cd1",
   "metadata": {},
   "outputs": [],
   "source": [
    "# Actual computation\n",
    "\n",
    "# Create evaluation context with both data and functions\n",
    "context = {\n",
    "    \"price\": \"close\",\n",
    "    \"window\": 14,\n",
    "    \"_dataset\": ds_jit\n",
    "}\n",
    "context.update(get_function_context())  # Add all registered functions\n",
    "\n",
    "# JIT compile the evaluation\n",
    "# @jax.jit \n",
    "def _eval(context):\n",
    "    result = manager.evaluate(\"rsi\", context)\n",
    "    return result\n",
    "    \n",
    "## ideally this should be JIT compiled but ipy kernel doesn't seem to be happy with it. Ignore for now."
   ]
  },
  {
   "cell_type": "code",
   "execution_count": null,
   "id": "f93180d3-ad22-47e1-8eb1-bbf4d8556586",
   "metadata": {
    "scrolled": true
   },
   "outputs": [],
   "source": [
    "result = _eval(context) # eval w/ the context."
   ]
  },
  {
   "cell_type": "code",
   "execution_count": null,
   "id": "c6065f12-b2ef-4613-bf89-b24e26168666",
   "metadata": {},
   "outputs": [],
   "source": [
    "asset_permno = 14593 # APPLE's permno\n",
    "ds = ds.assign(rsi=result) # Assigning RSI to the original dataset"
   ]
  },
  {
   "cell_type": "code",
   "execution_count": null,
   "id": "afd0b320-20dd-44f7-baa0-9edfb70abeee",
   "metadata": {},
   "outputs": [],
   "source": [
    "# All computations and assignments are done. We can now move back to a more manageable format for the ds.\n",
    "\n",
    "# Select APPLE and the vars we just computed + the closing price.\n",
    "subset = ds[['rsi', 'close']].sel(asset=asset_permno) \n",
    "ts = subset.dt.to_time_indexed() # refer to the docs. (essentially flattens the time dimension)"
   ]
  },
  {
   "cell_type": "code",
   "execution_count": null,
   "id": "6d82f038-3fbc-48a2-bdb6-6c540b0f7986",
   "metadata": {
    "scrolled": true
   },
   "outputs": [],
   "source": [
    "# Since time is now a single flattened dimension, X-array plot functions work happily.\n",
    "# X-Array does not support multidimensional time plotting, hence ALWAYS flatten before plot (for now)\n",
    "ts['rsi'].plot.line(x=\"time\", label='RSI', color='blue', alpha=0.5) \n",
    "ts['close'].plot.line(x=\"time\", label='Adjusted closing prices', color='cyan', alpha=0.5) \n",
    "plt.title(f\"Adjusted Price vs. RSI (Asset: {asset_permno})\")\n",
    "plt.xlabel(\"Time\")\n",
    "plt.ylabel(\"Price\")\n",
    "plt.legend()\n",
    "plt.grid(False)"
   ]
  },
  {
   "cell_type": "code",
   "execution_count": null,
   "id": "a49e5006-6ecc-45b6-a51d-eb939f9a7fae",
   "metadata": {},
   "outputs": [],
   "source": [
    "# We will do manual eye-check.\n",
    "\n",
    "# Get the RSIs and the closing prices from the flattened ds and conver to pandas.\n",
    "df = ts[['rsi', 'close']].to_dataframe()\n",
    "\n",
    "df[-20:] # view last 10 records."
   ]
  },
  {
   "cell_type": "code",
   "execution_count": null,
   "id": "b5bc7b16-9b6d-4358-91ad-a21370d093e0",
   "metadata": {},
   "outputs": [],
   "source": [
    "# Pandas TA Version\n",
    "\n",
    "rsi_pd = ta.rsi(df['close'].dropna(), length=14)\n",
    "\n",
    "rsi_pd[-20:]"
   ]
  },
  {
   "cell_type": "markdown",
   "id": "94345788-7f1d-4d84-94a4-3d6ae6fce812",
   "metadata": {},
   "source": [
    "### ALMA"
   ]
  },
  {
   "cell_type": "code",
   "execution_count": null,
   "id": "98af0fa1-546e-4ab5-9b2f-4e27b6be452e",
   "metadata": {},
   "outputs": [],
   "source": [
    "# Create evaluation context with both data and functions\n",
    "context = {\n",
    "    \"price\": \"close\",\n",
    "    \"window\": 10,    # Default for ALMA\n",
    "    \"offset\": 0.85,  # Default offset\n",
    "    \"sigma\": 6.0,    # Default sigma\n",
    "    \"_dataset\": ds_jit\n",
    "}\n",
    "context.update(get_function_context())\n",
    "\n",
    "# JIT compile the evaluation\n",
    "def _eval(context):\n",
    "    result = manager.evaluate(\"alma\", context)\n",
    "    return result\n",
    "\n",
    "result = _eval(context) # eval w/ the context.\n",
    "\n",
    "asset_permno = 14593 # APPLE's permno\n",
    "ds = ds.assign(alma=result) # Assigning RSI to the original dataset\n",
    "\n",
    "# Select APPLE and the vars we just computed + the closing price.\n",
    "subset = ds[['alma', 'close']].sel(asset=asset_permno) \n",
    "ts = subset.dt.to_time_indexed() "
   ]
  },
  {
   "cell_type": "code",
   "execution_count": null,
   "id": "49456f8d-c7c4-4aa7-9aae-2d9e1bd514a4",
   "metadata": {},
   "outputs": [],
   "source": [
    "# Since time is now a single flattened dimension, X-array plot functions work happily.\n",
    "# X-Array does not support multidimensional time plotting, hence ALWAYS flatten before plot (for now)\n",
    "ts['alma'].plot.line(x=\"time\", label='ALMA', color='blue', alpha=0.5) \n",
    "ts['close'].plot.line(x=\"time\", label='Adjusted closing prices', color='cyan', alpha=0.5) \n",
    "plt.title(f\"Adjusted Price vs. RSI (Asset: {asset_permno})\")\n",
    "plt.xlabel(\"Time\")\n",
    "plt.ylabel(\"Price\")\n",
    "plt.legend()\n",
    "plt.grid(False)"
   ]
  },
  {
   "cell_type": "code",
   "execution_count": null,
   "id": "0272c4c3-18b4-48f8-b9f0-9ab3d12aae9b",
   "metadata": {},
   "outputs": [],
   "source": [
    "# We will do manual eye-check.\n",
    "\n",
    "df = ts[['alma', 'close']].to_dataframe()\n",
    "\n",
    "df[-20:]['alma'] # view last 10 records."
   ]
  },
  {
   "cell_type": "code",
   "execution_count": null,
   "id": "5a016e77-4eb7-42d8-8b25-3fc8989bddfb",
   "metadata": {},
   "outputs": [],
   "source": [
    "# Pandas TA Version\n",
    "\n",
    "alma_pd = ta.alma(df['close'].dropna(), length=10, sigma=6, distribution_offset=0.85, offset=None)\n",
    "\n",
    "alma_pd[-20:]"
   ]
  },
  {
   "cell_type": "markdown",
   "id": "b01785a1-17ce-4472-a752-ec7e82994991",
   "metadata": {},
   "source": [
    "### FWMA"
   ]
  },
  {
   "cell_type": "code",
   "execution_count": null,
   "id": "ab395880-1d7a-440d-90ac-e5c710169e84",
   "metadata": {},
   "outputs": [],
   "source": [
    "manager.list_formulas()"
   ]
  },
  {
   "cell_type": "code",
   "execution_count": null,
   "id": "1bc657fe-291c-4541-9053-fce3a8ce3896",
   "metadata": {},
   "outputs": [],
   "source": [
    "# Create evaluation context with both data and functions\n",
    "context = {\n",
    "    \"price\": \"close\",\n",
    "    \"window\": 10,\n",
    "    \"_dataset\": ds_jit\n",
    "}\n",
    "context.update(get_function_context())\n",
    "\n",
    "# JIT compile the evaluation\n",
    "def _eval(context):\n",
    "    result = manager.evaluate(\"fwma\", context)\n",
    "    return result\n",
    "\n",
    "result = _eval(context) # eval w/ the context.\n",
    "\n",
    "asset_permno = 14593 # APPLE's permno\n",
    "ds = ds.assign(fwma=result) # Assigning RSI to the original dataset\n",
    "\n",
    "# Select APPLE and the vars we just computed + the closing price.\n",
    "subset = ds[['fwma', 'close']].sel(asset=asset_permno) \n",
    "ts = subset.dt.to_time_indexed() "
   ]
  },
  {
   "cell_type": "code",
   "execution_count": null,
   "id": "754b31f6-91f8-44f3-a2a8-98e0fb6fbbd0",
   "metadata": {},
   "outputs": [],
   "source": [
    "ts['fwma'].plot.line(x=\"time\", label='fwma', color='blue', alpha=0.5) \n",
    "ts['close'].plot.line(x=\"time\", label='Adjusted closing prices', color='cyan', alpha=0.5) \n",
    "plt.title(f\"Adjusted Price vs. RSI (Asset: {asset_permno})\")\n",
    "plt.xlabel(\"Time\")\n",
    "plt.ylabel(\"Price\")\n",
    "plt.legend()\n",
    "plt.grid(False)"
   ]
  },
  {
   "cell_type": "code",
   "execution_count": null,
   "id": "1def0e11-ca70-483b-929c-eebe7eb89ed6",
   "metadata": {},
   "outputs": [],
   "source": [
    "# We will do manual eye-check.\n",
    "\n",
    "df = ts[['fwma', 'close']].to_dataframe()\n",
    "\n",
    "df[-20:]['fwma'] # view last 10 records."
   ]
  },
  {
   "cell_type": "code",
   "execution_count": null,
   "id": "ecdb9182-c0bf-482c-a72a-442dd457d26b",
   "metadata": {},
   "outputs": [],
   "source": [
    "# Pandas TA Version\n",
    "\n",
    "fwma_pd = ta.fwma(df['close'].dropna(), length=10)\n",
    "\n",
    "fwma_pd[-20:]"
   ]
  },
  {
   "cell_type": "code",
   "execution_count": null,
   "id": "36fcf498-00b6-4535-92ee-6c3fd536958f",
   "metadata": {},
   "outputs": [],
   "source": []
  }
 ],
 "metadata": {
  "kernelspec": {
   "display_name": "Python 3 (ipykernel)",
   "language": "python",
   "name": "python3"
  },
  "language_info": {
   "codemirror_mode": {
    "name": "ipython",
    "version": 3
   },
   "file_extension": ".py",
   "mimetype": "text/x-python",
   "name": "python",
   "nbconvert_exporter": "python",
   "pygments_lexer": "ipython3",
   "version": "3.12.7"
  }
 },
 "nbformat": 4,
 "nbformat_minor": 5
}
